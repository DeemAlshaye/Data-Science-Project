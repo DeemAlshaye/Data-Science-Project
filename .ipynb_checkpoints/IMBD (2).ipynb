{
  "metadata": {
    "kernelspec": {
      "name": "python",
      "display_name": "Python (Pyodide)",
      "language": "python"
    },
    "language_info": {
      "codemirror_mode": {
        "name": "python",
        "version": 3
      },
      "file_extension": ".py",
      "mimetype": "text/x-python",
      "name": "python",
      "nbconvert_exporter": "python",
      "pygments_lexer": "ipython3",
      "version": "3.8"
    }
  },
  "nbformat_minor": 5,
  "nbformat": 4,
  "cells": [
    {
      "id": "5b312935",
      "cell_type": "markdown",
      "source": "# IMBD Top 1000 Movies \n\n## Load the dataset and import librarys:",
      "metadata": {}
    },
    {
      "id": "1eed96ec",
      "cell_type": "code",
      "source": "import pandas as pd\n\n# Load the dataset\nfile_path = 'movies.csv'\ndata = pd.read_csv(file_path)\n\n# Display the first few rows of the dataset\ndata.head()",
      "metadata": {
        "scrolled": true,
        "trusted": true
      },
      "outputs": [
        {
          "execution_count": 40,
          "output_type": "execute_result",
          "data": {
            "text/plain": "                      Title Release year  \\\n0  The Shawshank Redemption         1994   \n1           The Dark Knight         2008   \n2                 Inception         2010   \n3                Fight Club         1999   \n4              Pulp Fiction         1994   \n\n                                        Plot summary  \\\n0  Over the course of several years, two convicts...   \n1  When the menace known as the Joker wreaks havo...   \n2  A thief who steals corporate secrets through t...   \n3  An insomniac office worker and a devil-may-car...   \n4  The lives of two mob hitmen, a boxer, a gangst...   \n\n                       Genre  Rating  Runtime  IMDb rating  Metascore  \\\n0                      Drama     9.3  142 min          9.3       82.0   \n1       Action, Crime, Drama     9.0  152 min          9.0       84.0   \n2  Action, Adventure, Sci-Fi     8.8  148 min          8.8       74.0   \n3                      Drama     8.8  139 min          8.8       67.0   \n4               Crime, Drama     8.9  154 min          8.9       95.0   \n\n            Director                                              Stars  \\\n0     Frank Darabont  Tim Robbins, Morgan Freeman, Bob Gunton, Willi...   \n1  Christopher Nolan  Christian Bale, Heath Ledger, Aaron Eckhart, M...   \n2  Christopher Nolan  Leonardo DiCaprio, Joseph Gordon-Levitt, Ellio...   \n3      David Fincher  Brad Pitt, Edward Norton, Meat Loaf, Zach Grenier   \n4  Quentin Tarantino  John Travolta, Uma Thurman, Samuel L. Jackson,...   \n\n       Votes     Gross  \n0  2,869,913   $28.34M  \n1  2,851,842  $534.86M  \n2  2,532,959  $292.58M  \n3  2,305,364   $37.03M  \n4  2,204,248  $107.93M  ",
            "text/html": "<div>\n<style scoped>\n    .dataframe tbody tr th:only-of-type {\n        vertical-align: middle;\n    }\n\n    .dataframe tbody tr th {\n        vertical-align: top;\n    }\n\n    .dataframe thead th {\n        text-align: right;\n    }\n</style>\n<table border=\"1\" class=\"dataframe\">\n  <thead>\n    <tr style=\"text-align: right;\">\n      <th></th>\n      <th>Title</th>\n      <th>Release year</th>\n      <th>Plot summary</th>\n      <th>Genre</th>\n      <th>Rating</th>\n      <th>Runtime</th>\n      <th>IMDb rating</th>\n      <th>Metascore</th>\n      <th>Director</th>\n      <th>Stars</th>\n      <th>Votes</th>\n      <th>Gross</th>\n    </tr>\n  </thead>\n  <tbody>\n    <tr>\n      <th>0</th>\n      <td>The Shawshank Redemption</td>\n      <td>1994</td>\n      <td>Over the course of several years, two convicts...</td>\n      <td>Drama</td>\n      <td>9.3</td>\n      <td>142 min</td>\n      <td>9.3</td>\n      <td>82.0</td>\n      <td>Frank Darabont</td>\n      <td>Tim Robbins, Morgan Freeman, Bob Gunton, Willi...</td>\n      <td>2,869,913</td>\n      <td>$28.34M</td>\n    </tr>\n    <tr>\n      <th>1</th>\n      <td>The Dark Knight</td>\n      <td>2008</td>\n      <td>When the menace known as the Joker wreaks havo...</td>\n      <td>Action, Crime, Drama</td>\n      <td>9.0</td>\n      <td>152 min</td>\n      <td>9.0</td>\n      <td>84.0</td>\n      <td>Christopher Nolan</td>\n      <td>Christian Bale, Heath Ledger, Aaron Eckhart, M...</td>\n      <td>2,851,842</td>\n      <td>$534.86M</td>\n    </tr>\n    <tr>\n      <th>2</th>\n      <td>Inception</td>\n      <td>2010</td>\n      <td>A thief who steals corporate secrets through t...</td>\n      <td>Action, Adventure, Sci-Fi</td>\n      <td>8.8</td>\n      <td>148 min</td>\n      <td>8.8</td>\n      <td>74.0</td>\n      <td>Christopher Nolan</td>\n      <td>Leonardo DiCaprio, Joseph Gordon-Levitt, Ellio...</td>\n      <td>2,532,959</td>\n      <td>$292.58M</td>\n    </tr>\n    <tr>\n      <th>3</th>\n      <td>Fight Club</td>\n      <td>1999</td>\n      <td>An insomniac office worker and a devil-may-car...</td>\n      <td>Drama</td>\n      <td>8.8</td>\n      <td>139 min</td>\n      <td>8.8</td>\n      <td>67.0</td>\n      <td>David Fincher</td>\n      <td>Brad Pitt, Edward Norton, Meat Loaf, Zach Grenier</td>\n      <td>2,305,364</td>\n      <td>$37.03M</td>\n    </tr>\n    <tr>\n      <th>4</th>\n      <td>Pulp Fiction</td>\n      <td>1994</td>\n      <td>The lives of two mob hitmen, a boxer, a gangst...</td>\n      <td>Crime, Drama</td>\n      <td>8.9</td>\n      <td>154 min</td>\n      <td>8.9</td>\n      <td>95.0</td>\n      <td>Quentin Tarantino</td>\n      <td>John Travolta, Uma Thurman, Samuel L. Jackson,...</td>\n      <td>2,204,248</td>\n      <td>$107.93M</td>\n    </tr>\n  </tbody>\n</table>\n</div>"
          },
          "metadata": {}
        }
      ],
      "execution_count": 40
    },
    {
      "id": "a620c38b",
      "cell_type": "markdown",
      "source": "# Data Processing and Cleaning:\n## Data Cleaning:\n### Handling missing values:",
      "metadata": {}
    },
    {
      "id": "6035a254",
      "cell_type": "code",
      "source": "# Step 1: Check for Missing Values\ndata.isnull().sum()\n\n",
      "metadata": {
        "trusted": true
      },
      "outputs": [
        {
          "execution_count": 41,
          "output_type": "execute_result",
          "data": {
            "text/plain": "Title            0\nRelease year     0\nPlot summary     0\nGenre            0\nRating           0\nRuntime          0\nIMDb rating      0\nMetascore       27\nDirector         0\nStars            0\nVotes            0\nGross           39\ndtype: int64"
          },
          "metadata": {}
        }
      ],
      "execution_count": 41
    },
    {
      "id": "ab0f83f2",
      "cell_type": "markdown",
      "source": "What was done: Checked for the presence of missing values in each column of the dataset.\nWhy it was necessary: Identifying missing values is crucial to assess the quality of the data and decide on appropriate handling techniques.",
      "metadata": {}
    },
    {
      "id": "829d3c9b",
      "cell_type": "markdown",
      "source": "###  Data Type Conversion",
      "metadata": {}
    },
    {
      "id": "ab5b61ef",
      "cell_type": "code",
      "source": "# Step 2: Data Type Conversion\n# Convert 'Release year' to integer\ndata['Release year'] = pd.to_numeric(data['Release year'], errors='coerce')\n\n# Convert 'IMDb rating' to float\ndata['IMDb rating'] = pd.to_numeric(data['IMDb rating'], errors='coerce')\n\n# Convert 'votes' to integer\ndata['Votes'] = data['Votes'].str.replace(',', '').astype(int)\n\n",
      "metadata": {
        "trusted": true
      },
      "outputs": [],
      "execution_count": 42
    },
    {
      "id": "1dc72226",
      "cell_type": "markdown",
      "source": "What was done: Converted the 'Release year' column to integer and 'Votes' column to integer and the 'IMDb rating' column to float.\nWhy it was necessary: Ensuring that data types are consistent with the data they represent is important for analysis and computation. For example, the release year should be an integer, and ratings should be floating-point numbers.",
      "metadata": {}
    },
    {
      "id": "0caecabb",
      "cell_type": "markdown",
      "source": "### Remove Unnecessary Characters:",
      "metadata": {}
    },
    {
      "id": "c7b3dc63",
      "cell_type": "code",
      "source": "# Step 3: Remove Unnecessary Characters\n# Remove 'min' from 'Runtime' and convert to integer\ndata['Runtime'] = data['Runtime'].str.replace(' min', '').astype(float)\n\n# Remove '$' and 'M' from 'Gross', convert to float, and multiply by 1 million\ndata['Gross'] = data['Gross'].str.replace('[\\$\\,M]', '', regex=True).astype(float) * 1e6\n",
      "metadata": {
        "trusted": true
      },
      "outputs": [],
      "execution_count": 43
    },
    {
      "id": "88b21cd3",
      "cell_type": "markdown",
      "source": "What was done: Removed non-numeric characters from the 'Runtime' and 'Gross' columns and converted them to appropriate numeric types.\nWhy it was necessary: Numeric columns containing non-numeric characters cannot be used for mathematical operations. Cleaning these columns allows for accurate calculations and analysis.",
      "metadata": {}
    },
    {
      "id": "5fcd8d8a",
      "cell_type": "markdown",
      "source": "### Splitting Columns ",
      "metadata": {}
    },
    {
      "id": "0f821d03",
      "cell_type": "code",
      "source": "# Step 4: Splitting Columns \ndata['Stars'] = data['Stars'].str.split(', ')\n",
      "metadata": {
        "trusted": true
      },
      "outputs": [],
      "execution_count": 14
    },
    {
      "id": "32e7b9ed",
      "cell_type": "markdown",
      "source": "What was done: Split the 'Stars' column into a list of individual names.\nWhy it was necessary: The 'Stars' column contained multiple names in a single string, which is not ideal for analysis. Splitting the names into a list allows for easier manipulation and analysis of individual names.",
      "metadata": {}
    },
    {
      "id": "2fa09155",
      "cell_type": "markdown",
      "source": "### Handling missing values",
      "metadata": {}
    },
    {
      "id": "79dc780e",
      "cell_type": "code",
      "source": "# Handling missing values\n\n# For 'Metascore', we'll fill missing values with the median\nmetascore_median = data['Metascore'].median()\ndata['Metascore'].fillna(metascore_median, inplace=True)\n\n# For 'Gross', we'll fill missing values with the median\ngross_median = data['Gross'].median()\ndata['Gross'].fillna(gross_median, inplace=True)\n\n# Fill missing values in 'Release year' with the median\nrelease_year_median = data['Release year'].median()\ndata['Release year'].fillna(release_year_median, inplace=True)\n\n# Check if there are any missing values left\ndata.isnull().sum()\n",
      "metadata": {
        "trusted": true
      },
      "outputs": [
        {
          "execution_count": 15,
          "output_type": "execute_result",
          "data": {
            "text/plain": "Title           0\nRelease year    0\nPlot summary    0\nGenre           0\nRating          0\nRuntime         0\nIMDb rating     0\nMetascore       0\nDirector        0\nStars           0\nVotes           0\nGross           0\ndtype: int64"
          },
          "metadata": {}
        }
      ],
      "execution_count": 15
    },
    {
      "id": "57db4d84",
      "cell_type": "markdown",
      "source": "What was done: Filled missing values in the 'Metascore', 'Gross', and 'Release year' columns with their respective median values. Why it was necessary: Missing values can affect the results of analyses and computations. Filling them with a central tendency measure is a common practice to maintain the overall distribution of the data.",
      "metadata": {}
    },
    {
      "id": "33363647-5603-47d7-945e-35f51a1a8e1e",
      "cell_type": "markdown",
      "source": "### cleaned data:",
      "metadata": {}
    },
    {
      "id": "3e7fb7e7",
      "cell_type": "code",
      "source": "# Display the cleaned dataset \ndata.head()",
      "metadata": {
        "trusted": true
      },
      "outputs": [
        {
          "execution_count": 7,
          "output_type": "execute_result",
          "data": {
            "text/plain": "                      Title  Release year  \\\n0  The Shawshank Redemption        1994.0   \n1           The Dark Knight        2008.0   \n2                 Inception        2010.0   \n3                Fight Club        1999.0   \n4              Pulp Fiction        1994.0   \n\n                                        Plot summary  \\\n0  Over the course of several years, two convicts...   \n1  When the menace known as the Joker wreaks havo...   \n2  A thief who steals corporate secrets through t...   \n3  An insomniac office worker and a devil-may-car...   \n4  The lives of two mob hitmen, a boxer, a gangst...   \n\n                       Genre  Rating  Runtime  IMDb rating  Metascore  \\\n0                      Drama     9.3    142.0          9.3       82.0   \n1       Action, Crime, Drama     9.0    152.0          9.0       84.0   \n2  Action, Adventure, Sci-Fi     8.8    148.0          8.8       74.0   \n3                      Drama     8.8    139.0          8.8       67.0   \n4               Crime, Drama     8.9    154.0          8.9       95.0   \n\n            Director                                              Stars  \\\n0     Frank Darabont  [Tim Robbins, Morgan Freeman, Bob Gunton, Will...   \n1  Christopher Nolan  [Christian Bale, Heath Ledger, Aaron Eckhart, ...   \n2  Christopher Nolan  [Leonardo DiCaprio, Joseph Gordon-Levitt, Elli...   \n3      David Fincher  [Brad Pitt, Edward Norton, Meat Loaf, Zach Gre...   \n4  Quentin Tarantino  [John Travolta, Uma Thurman, Samuel L. Jackson...   \n\n     Votes        Gross  \n0  2869913   28340000.0  \n1  2851842  534860000.0  \n2  2532959  292580000.0  \n3  2305364   37030000.0  \n4  2204248  107930000.0  ",
            "text/html": "<div>\n<style scoped>\n    .dataframe tbody tr th:only-of-type {\n        vertical-align: middle;\n    }\n\n    .dataframe tbody tr th {\n        vertical-align: top;\n    }\n\n    .dataframe thead th {\n        text-align: right;\n    }\n</style>\n<table border=\"1\" class=\"dataframe\">\n  <thead>\n    <tr style=\"text-align: right;\">\n      <th></th>\n      <th>Title</th>\n      <th>Release year</th>\n      <th>Plot summary</th>\n      <th>Genre</th>\n      <th>Rating</th>\n      <th>Runtime</th>\n      <th>IMDb rating</th>\n      <th>Metascore</th>\n      <th>Director</th>\n      <th>Stars</th>\n      <th>Votes</th>\n      <th>Gross</th>\n    </tr>\n  </thead>\n  <tbody>\n    <tr>\n      <th>0</th>\n      <td>The Shawshank Redemption</td>\n      <td>1994.0</td>\n      <td>Over the course of several years, two convicts...</td>\n      <td>Drama</td>\n      <td>9.3</td>\n      <td>142.0</td>\n      <td>9.3</td>\n      <td>82.0</td>\n      <td>Frank Darabont</td>\n      <td>[Tim Robbins, Morgan Freeman, Bob Gunton, Will...</td>\n      <td>2869913</td>\n      <td>28340000.0</td>\n    </tr>\n    <tr>\n      <th>1</th>\n      <td>The Dark Knight</td>\n      <td>2008.0</td>\n      <td>When the menace known as the Joker wreaks havo...</td>\n      <td>Action, Crime, Drama</td>\n      <td>9.0</td>\n      <td>152.0</td>\n      <td>9.0</td>\n      <td>84.0</td>\n      <td>Christopher Nolan</td>\n      <td>[Christian Bale, Heath Ledger, Aaron Eckhart, ...</td>\n      <td>2851842</td>\n      <td>534860000.0</td>\n    </tr>\n    <tr>\n      <th>2</th>\n      <td>Inception</td>\n      <td>2010.0</td>\n      <td>A thief who steals corporate secrets through t...</td>\n      <td>Action, Adventure, Sci-Fi</td>\n      <td>8.8</td>\n      <td>148.0</td>\n      <td>8.8</td>\n      <td>74.0</td>\n      <td>Christopher Nolan</td>\n      <td>[Leonardo DiCaprio, Joseph Gordon-Levitt, Elli...</td>\n      <td>2532959</td>\n      <td>292580000.0</td>\n    </tr>\n    <tr>\n      <th>3</th>\n      <td>Fight Club</td>\n      <td>1999.0</td>\n      <td>An insomniac office worker and a devil-may-car...</td>\n      <td>Drama</td>\n      <td>8.8</td>\n      <td>139.0</td>\n      <td>8.8</td>\n      <td>67.0</td>\n      <td>David Fincher</td>\n      <td>[Brad Pitt, Edward Norton, Meat Loaf, Zach Gre...</td>\n      <td>2305364</td>\n      <td>37030000.0</td>\n    </tr>\n    <tr>\n      <th>4</th>\n      <td>Pulp Fiction</td>\n      <td>1994.0</td>\n      <td>The lives of two mob hitmen, a boxer, a gangst...</td>\n      <td>Crime, Drama</td>\n      <td>8.9</td>\n      <td>154.0</td>\n      <td>8.9</td>\n      <td>95.0</td>\n      <td>Quentin Tarantino</td>\n      <td>[John Travolta, Uma Thurman, Samuel L. Jackson...</td>\n      <td>2204248</td>\n      <td>107930000.0</td>\n    </tr>\n  </tbody>\n</table>\n</div>"
          },
          "metadata": {}
        }
      ],
      "execution_count": 7
    },
    {
      "id": "ece7e4da-0408-4ddd-a1d8-48b593a1cf73",
      "cell_type": "markdown",
      "source": "# Preprocessing: \n### 1- Normilazation:",
      "metadata": {}
    },
    {
      "id": "c2f08af6-b8a0-457d-921a-bdf00a47fb74",
      "cell_type": "code",
      "source": "from sklearn.preprocessing import MinMaxScaler\n\n# Create a MinMaxScaler object with the custom range (1 to 10)\ncustom_scaler = MinMaxScaler(feature_range=(1, 10))\n\n# Normalize the specified columns in the original 'data' DataFrame\ncolumns_to_normalize = ['Metascore', 'Votes', 'Gross']\ndata[columns_to_normalize] = custom_scaler.fit_transform(data[columns_to_normalize])\ndata.head()",
      "metadata": {
        "trusted": true
      },
      "outputs": [
        {
          "execution_count": 19,
          "output_type": "execute_result",
          "data": {
            "text/plain": "                      Title  Release year  \\\n0  The Shawshank Redemption        1994.0   \n1           The Dark Knight        2008.0   \n2                 Inception        2010.0   \n3                Fight Club        1999.0   \n4              Pulp Fiction        1994.0   \n\n                                        Plot summary  \\\n0  Over the course of several years, two convicts...   \n1  When the menace known as the Joker wreaks havo...   \n2  A thief who steals corporate secrets through t...   \n3  An insomniac office worker and a devil-may-car...   \n4  The lives of two mob hitmen, a boxer, a gangst...   \n\n                       Genre  Rating  Runtime  IMDb rating  Metascore  \\\n0                      Drama     9.3    142.0          9.3   7.896104   \n1       Action, Crime, Drama     9.0    152.0          9.0   8.129870   \n2  Action, Adventure, Sci-Fi     8.8    148.0          8.8   6.961039   \n3                      Drama     8.8    139.0          8.8   6.142857   \n4               Crime, Drama     8.9    154.0          8.9   9.415584   \n\n            Director                                              Stars  \\\n0     Frank Darabont  [Tim Robbins, Morgan Freeman, Bob Gunton, Will...   \n1  Christopher Nolan  [Christian Bale, Heath Ledger, Aaron Eckhart, ...   \n2  Christopher Nolan  [Leonardo DiCaprio, Joseph Gordon-Levitt, Elli...   \n3      David Fincher  [Brad Pitt, Edward Norton, Meat Loaf, Zach Gre...   \n4  Quentin Tarantino  [John Travolta, Uma Thurman, Samuel L. Jackson...   \n\n       Votes     Gross  \n0  10.000000  1.272308  \n1   9.939886  6.139261  \n2   8.879099  3.811287  \n3   8.121988  1.355807  \n4   7.785618  2.037057  ",
            "text/html": "<div>\n<style scoped>\n    .dataframe tbody tr th:only-of-type {\n        vertical-align: middle;\n    }\n\n    .dataframe tbody tr th {\n        vertical-align: top;\n    }\n\n    .dataframe thead th {\n        text-align: right;\n    }\n</style>\n<table border=\"1\" class=\"dataframe\">\n  <thead>\n    <tr style=\"text-align: right;\">\n      <th></th>\n      <th>Title</th>\n      <th>Release year</th>\n      <th>Plot summary</th>\n      <th>Genre</th>\n      <th>Rating</th>\n      <th>Runtime</th>\n      <th>IMDb rating</th>\n      <th>Metascore</th>\n      <th>Director</th>\n      <th>Stars</th>\n      <th>Votes</th>\n      <th>Gross</th>\n    </tr>\n  </thead>\n  <tbody>\n    <tr>\n      <th>0</th>\n      <td>The Shawshank Redemption</td>\n      <td>1994.0</td>\n      <td>Over the course of several years, two convicts...</td>\n      <td>Drama</td>\n      <td>9.3</td>\n      <td>142.0</td>\n      <td>9.3</td>\n      <td>7.896104</td>\n      <td>Frank Darabont</td>\n      <td>[Tim Robbins, Morgan Freeman, Bob Gunton, Will...</td>\n      <td>10.000000</td>\n      <td>1.272308</td>\n    </tr>\n    <tr>\n      <th>1</th>\n      <td>The Dark Knight</td>\n      <td>2008.0</td>\n      <td>When the menace known as the Joker wreaks havo...</td>\n      <td>Action, Crime, Drama</td>\n      <td>9.0</td>\n      <td>152.0</td>\n      <td>9.0</td>\n      <td>8.129870</td>\n      <td>Christopher Nolan</td>\n      <td>[Christian Bale, Heath Ledger, Aaron Eckhart, ...</td>\n      <td>9.939886</td>\n      <td>6.139261</td>\n    </tr>\n    <tr>\n      <th>2</th>\n      <td>Inception</td>\n      <td>2010.0</td>\n      <td>A thief who steals corporate secrets through t...</td>\n      <td>Action, Adventure, Sci-Fi</td>\n      <td>8.8</td>\n      <td>148.0</td>\n      <td>8.8</td>\n      <td>6.961039</td>\n      <td>Christopher Nolan</td>\n      <td>[Leonardo DiCaprio, Joseph Gordon-Levitt, Elli...</td>\n      <td>8.879099</td>\n      <td>3.811287</td>\n    </tr>\n    <tr>\n      <th>3</th>\n      <td>Fight Club</td>\n      <td>1999.0</td>\n      <td>An insomniac office worker and a devil-may-car...</td>\n      <td>Drama</td>\n      <td>8.8</td>\n      <td>139.0</td>\n      <td>8.8</td>\n      <td>6.142857</td>\n      <td>David Fincher</td>\n      <td>[Brad Pitt, Edward Norton, Meat Loaf, Zach Gre...</td>\n      <td>8.121988</td>\n      <td>1.355807</td>\n    </tr>\n    <tr>\n      <th>4</th>\n      <td>Pulp Fiction</td>\n      <td>1994.0</td>\n      <td>The lives of two mob hitmen, a boxer, a gangst...</td>\n      <td>Crime, Drama</td>\n      <td>8.9</td>\n      <td>154.0</td>\n      <td>8.9</td>\n      <td>9.415584</td>\n      <td>Quentin Tarantino</td>\n      <td>[John Travolta, Uma Thurman, Samuel L. Jackson...</td>\n      <td>7.785618</td>\n      <td>2.037057</td>\n    </tr>\n  </tbody>\n</table>\n</div>"
          },
          "metadata": {}
        }
      ],
      "execution_count": 19
    },
    {
      "id": "8dcf3fd9-ee91-40e3-b9b8-b0a096bde647",
      "cell_type": "markdown",
      "source": "What was done: The 'MetaScore', 'Votes', and 'Gross' columns were normalized to a scale of 1-10.\r\n\r\nWhy it was necessary: the normalization was done to ensure that the data is presented consistently for comparison and visualization. Since IMDB ratings typically fall within the 1, 10 range aligning the 'MetaScore' 'Votes' and 'Gross columns, on the scale makes it easier to analyze and understand. By bringing all values to a scale it simplifies the process of gauging the significance or size of these variables relative, to each other.",
      "metadata": {}
    },
    {
      "id": "18f69e17-8c86-4586-a1a4-6b1d3e4458a2",
      "cell_type": "markdown",
      "source": "### 2- Discretization:",
      "metadata": {}
    },
    {
      "id": "5a06cde1-2d01-4917-af24-717a0bf8b2ba",
      "cell_type": "code",
      "source": "# Load the dataset\nfile_path = 'imdb_movies_Scrape1000.csv'\ndata = pd.read_csv(file_path)\n\n# Drop rows with NaN values in 'IMDb rating' column\ndata = data.dropna(subset=['IMDb rating'])\n\n# Define the bins and labels for discretization\nbins = [0, 6.9, 8.4, 10]\nlabels = ['Low', 'Medium', 'High']\n\n# Discretize the 'IMDb rating' column\ndata['Rating Category'] = pd.cut(data['IMDb rating'], bins=bins, labels=labels, include_lowest=True)\n\n# Display the updated dataset with the new 'Rating Category' column\ndata.head()",
      "metadata": {
        "trusted": true
      },
      "outputs": [
        {
          "execution_count": 31,
          "output_type": "execute_result",
          "data": {
            "text/plain": "                      Title Release year  \\\n0  The Shawshank Redemption         1994   \n1           The Dark Knight         2008   \n2                 Inception         2010   \n3                Fight Club         1999   \n4              Pulp Fiction         1994   \n\n                                        Plot summary  \\\n0  Over the course of several years, two convicts...   \n1  When the menace known as the Joker wreaks havo...   \n2  A thief who steals corporate secrets through t...   \n3  An insomniac office worker and a devil-may-car...   \n4  The lives of two mob hitmen, a boxer, a gangst...   \n\n                       Genre  Rating  Runtime  IMDb rating  Metascore  \\\n0                      Drama     9.3  142 min          9.3       82.0   \n1       Action, Crime, Drama     9.0  152 min          9.0       84.0   \n2  Action, Adventure, Sci-Fi     8.8  148 min          8.8       74.0   \n3                      Drama     8.8  139 min          8.8       67.0   \n4               Crime, Drama     8.9  154 min          8.9       95.0   \n\n            Director                                              Stars  \\\n0     Frank Darabont  Tim Robbins, Morgan Freeman, Bob Gunton, Willi...   \n1  Christopher Nolan  Christian Bale, Heath Ledger, Aaron Eckhart, M...   \n2  Christopher Nolan  Leonardo DiCaprio, Joseph Gordon-Levitt, Ellio...   \n3      David Fincher  Brad Pitt, Edward Norton, Meat Loaf, Zach Grenier   \n4  Quentin Tarantino  John Travolta, Uma Thurman, Samuel L. Jackson,...   \n\n       Votes     Gross Rating Category  \n0  2,869,913   $28.34M            High  \n1  2,851,842  $534.86M            High  \n2  2,532,959  $292.58M            High  \n3  2,305,364   $37.03M            High  \n4  2,204,248  $107.93M            High  ",
            "text/html": "<div>\n<style scoped>\n    .dataframe tbody tr th:only-of-type {\n        vertical-align: middle;\n    }\n\n    .dataframe tbody tr th {\n        vertical-align: top;\n    }\n\n    .dataframe thead th {\n        text-align: right;\n    }\n</style>\n<table border=\"1\" class=\"dataframe\">\n  <thead>\n    <tr style=\"text-align: right;\">\n      <th></th>\n      <th>Title</th>\n      <th>Release year</th>\n      <th>Plot summary</th>\n      <th>Genre</th>\n      <th>Rating</th>\n      <th>Runtime</th>\n      <th>IMDb rating</th>\n      <th>Metascore</th>\n      <th>Director</th>\n      <th>Stars</th>\n      <th>Votes</th>\n      <th>Gross</th>\n      <th>Rating Category</th>\n    </tr>\n  </thead>\n  <tbody>\n    <tr>\n      <th>0</th>\n      <td>The Shawshank Redemption</td>\n      <td>1994</td>\n      <td>Over the course of several years, two convicts...</td>\n      <td>Drama</td>\n      <td>9.3</td>\n      <td>142 min</td>\n      <td>9.3</td>\n      <td>82.0</td>\n      <td>Frank Darabont</td>\n      <td>Tim Robbins, Morgan Freeman, Bob Gunton, Willi...</td>\n      <td>2,869,913</td>\n      <td>$28.34M</td>\n      <td>High</td>\n    </tr>\n    <tr>\n      <th>1</th>\n      <td>The Dark Knight</td>\n      <td>2008</td>\n      <td>When the menace known as the Joker wreaks havo...</td>\n      <td>Action, Crime, Drama</td>\n      <td>9.0</td>\n      <td>152 min</td>\n      <td>9.0</td>\n      <td>84.0</td>\n      <td>Christopher Nolan</td>\n      <td>Christian Bale, Heath Ledger, Aaron Eckhart, M...</td>\n      <td>2,851,842</td>\n      <td>$534.86M</td>\n      <td>High</td>\n    </tr>\n    <tr>\n      <th>2</th>\n      <td>Inception</td>\n      <td>2010</td>\n      <td>A thief who steals corporate secrets through t...</td>\n      <td>Action, Adventure, Sci-Fi</td>\n      <td>8.8</td>\n      <td>148 min</td>\n      <td>8.8</td>\n      <td>74.0</td>\n      <td>Christopher Nolan</td>\n      <td>Leonardo DiCaprio, Joseph Gordon-Levitt, Ellio...</td>\n      <td>2,532,959</td>\n      <td>$292.58M</td>\n      <td>High</td>\n    </tr>\n    <tr>\n      <th>3</th>\n      <td>Fight Club</td>\n      <td>1999</td>\n      <td>An insomniac office worker and a devil-may-car...</td>\n      <td>Drama</td>\n      <td>8.8</td>\n      <td>139 min</td>\n      <td>8.8</td>\n      <td>67.0</td>\n      <td>David Fincher</td>\n      <td>Brad Pitt, Edward Norton, Meat Loaf, Zach Grenier</td>\n      <td>2,305,364</td>\n      <td>$37.03M</td>\n      <td>High</td>\n    </tr>\n    <tr>\n      <th>4</th>\n      <td>Pulp Fiction</td>\n      <td>1994</td>\n      <td>The lives of two mob hitmen, a boxer, a gangst...</td>\n      <td>Crime, Drama</td>\n      <td>8.9</td>\n      <td>154 min</td>\n      <td>8.9</td>\n      <td>95.0</td>\n      <td>Quentin Tarantino</td>\n      <td>John Travolta, Uma Thurman, Samuel L. Jackson,...</td>\n      <td>2,204,248</td>\n      <td>$107.93M</td>\n      <td>High</td>\n    </tr>\n  </tbody>\n</table>\n</div>"
          },
          "metadata": {}
        }
      ],
      "execution_count": 31
    },
    {
      "id": "5f61fa55-bb91-49d9-9282-16dbda943490",
      "cell_type": "markdown",
      "source": "Was done:  we discretized 'IMDb rating' into the categories (low, medium, high ) 'Low' for ratings below 7.0, 'Medium' for ratings between 7.0 and 8.4, and 'High' for ratings 8.5 and above. Why it was necessary: provides a simplified representation of the ratings, allowing for easier analysis and comparison. we can identify patterns within each category.",
      "metadata": {}
    },
    {
      "id": "4a456dbe-a3dd-4ff1-84c7-971e3ef07c38",
      "cell_type": "markdown",
      "source": "### 3- Feature Selection:",
      "metadata": {}
    },
    {
      "id": "f1c89331-7a9a-4278-a513-b35ca8f28609",
      "cell_type": "markdown",
      "source": "After thoroughly analyzing the dataset and attempting multiple feature selection techniques and codes, we have come to the conclusion that it is better not to apply feature selection. This decision is based on several reasons:\n\nFirstly ,The IMDb dataset usually comes with a list of limited features.like movie title, release year plot summary, gross, rating, runtime IMDb rating, Metascore, director, stars, votes and genre.With a number of features that are already relevant to the movie data and offer valuable insights for analysis.\nAdditionally In terms of movie data analysis most features are directly related to the study. Each feature plays a role, in understanding aspects of a movie.Removing any of these features could lead to losing details and potentially affecting the analysis.  \nLastly, Movie data is commonly examined as a whole by considering features to grasp a thorough understanding of movies and their characteristics. \n\nBased on these reasons, we have decided to utilize the IMDb dataset without applying feature selection in order to obtain the best possible results for our analysis.",
      "metadata": {}
    }
  ]
}