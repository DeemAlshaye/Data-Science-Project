{
 "cells": [
  {
   "cell_type": "markdown",
   "id": "5b312935",
   "metadata": {},
   "source": [
    "# IMBD Top 1000 Movies \n",
    "\n",
    "## Load the dataset and import librarys:"
   ]
  },
  {
   "cell_type": "code",
   "execution_count": 15,
   "id": "1eed96ec",
   "metadata": {
    "scrolled": true
   },
   "outputs": [
    {
     "ename": "ParserError",
     "evalue": "Error tokenizing data. C error: Expected 1 fields in line 41, saw 16\n",
     "output_type": "error",
     "traceback": [
      "\u001b[1;31m---------------------------------------------------------------------------\u001b[0m",
      "\u001b[1;31mParserError\u001b[0m                               Traceback (most recent call last)",
      "Cell \u001b[1;32mIn[15], line 5\u001b[0m\n\u001b[0;32m      3\u001b[0m \u001b[38;5;66;03m# Load the dataset\u001b[39;00m\n\u001b[0;32m      4\u001b[0m file_path \u001b[38;5;241m=\u001b[39m \u001b[38;5;124m'\u001b[39m\u001b[38;5;124mhttps://github.com/DeemAlshaye/Data-Science-Project/blob/6b73fa767148846c9bf90a033ee8375309b2f6bc/imdb_movies_Scrape1000.csv\u001b[39m\u001b[38;5;124m'\u001b[39m\n\u001b[1;32m----> 5\u001b[0m data \u001b[38;5;241m=\u001b[39m pd\u001b[38;5;241m.\u001b[39mread_csv(file_path)\n\u001b[0;32m      7\u001b[0m \u001b[38;5;66;03m# Display the first few rows of the dataset\u001b[39;00m\n\u001b[0;32m      8\u001b[0m data\u001b[38;5;241m.\u001b[39mhead()\n",
      "File \u001b[1;32m~\\anaconda3\\Lib\\site-packages\\pandas\\io\\parsers\\readers.py:912\u001b[0m, in \u001b[0;36mread_csv\u001b[1;34m(filepath_or_buffer, sep, delimiter, header, names, index_col, usecols, dtype, engine, converters, true_values, false_values, skipinitialspace, skiprows, skipfooter, nrows, na_values, keep_default_na, na_filter, verbose, skip_blank_lines, parse_dates, infer_datetime_format, keep_date_col, date_parser, date_format, dayfirst, cache_dates, iterator, chunksize, compression, thousands, decimal, lineterminator, quotechar, quoting, doublequote, escapechar, comment, encoding, encoding_errors, dialect, on_bad_lines, delim_whitespace, low_memory, memory_map, float_precision, storage_options, dtype_backend)\u001b[0m\n\u001b[0;32m    899\u001b[0m kwds_defaults \u001b[38;5;241m=\u001b[39m _refine_defaults_read(\n\u001b[0;32m    900\u001b[0m     dialect,\n\u001b[0;32m    901\u001b[0m     delimiter,\n\u001b[1;32m   (...)\u001b[0m\n\u001b[0;32m    908\u001b[0m     dtype_backend\u001b[38;5;241m=\u001b[39mdtype_backend,\n\u001b[0;32m    909\u001b[0m )\n\u001b[0;32m    910\u001b[0m kwds\u001b[38;5;241m.\u001b[39mupdate(kwds_defaults)\n\u001b[1;32m--> 912\u001b[0m \u001b[38;5;28;01mreturn\u001b[39;00m _read(filepath_or_buffer, kwds)\n",
      "File \u001b[1;32m~\\anaconda3\\Lib\\site-packages\\pandas\\io\\parsers\\readers.py:583\u001b[0m, in \u001b[0;36m_read\u001b[1;34m(filepath_or_buffer, kwds)\u001b[0m\n\u001b[0;32m    580\u001b[0m     \u001b[38;5;28;01mreturn\u001b[39;00m parser\n\u001b[0;32m    582\u001b[0m \u001b[38;5;28;01mwith\u001b[39;00m parser:\n\u001b[1;32m--> 583\u001b[0m     \u001b[38;5;28;01mreturn\u001b[39;00m parser\u001b[38;5;241m.\u001b[39mread(nrows)\n",
      "File \u001b[1;32m~\\anaconda3\\Lib\\site-packages\\pandas\\io\\parsers\\readers.py:1704\u001b[0m, in \u001b[0;36mTextFileReader.read\u001b[1;34m(self, nrows)\u001b[0m\n\u001b[0;32m   1697\u001b[0m nrows \u001b[38;5;241m=\u001b[39m validate_integer(\u001b[38;5;124m\"\u001b[39m\u001b[38;5;124mnrows\u001b[39m\u001b[38;5;124m\"\u001b[39m, nrows)\n\u001b[0;32m   1698\u001b[0m \u001b[38;5;28;01mtry\u001b[39;00m:\n\u001b[0;32m   1699\u001b[0m     \u001b[38;5;66;03m# error: \"ParserBase\" has no attribute \"read\"\u001b[39;00m\n\u001b[0;32m   1700\u001b[0m     (\n\u001b[0;32m   1701\u001b[0m         index,\n\u001b[0;32m   1702\u001b[0m         columns,\n\u001b[0;32m   1703\u001b[0m         col_dict,\n\u001b[1;32m-> 1704\u001b[0m     ) \u001b[38;5;241m=\u001b[39m \u001b[38;5;28mself\u001b[39m\u001b[38;5;241m.\u001b[39m_engine\u001b[38;5;241m.\u001b[39mread(  \u001b[38;5;66;03m# type: ignore[attr-defined]\u001b[39;00m\n\u001b[0;32m   1705\u001b[0m         nrows\n\u001b[0;32m   1706\u001b[0m     )\n\u001b[0;32m   1707\u001b[0m \u001b[38;5;28;01mexcept\u001b[39;00m \u001b[38;5;167;01mException\u001b[39;00m:\n\u001b[0;32m   1708\u001b[0m     \u001b[38;5;28mself\u001b[39m\u001b[38;5;241m.\u001b[39mclose()\n",
      "File \u001b[1;32m~\\anaconda3\\Lib\\site-packages\\pandas\\io\\parsers\\c_parser_wrapper.py:234\u001b[0m, in \u001b[0;36mCParserWrapper.read\u001b[1;34m(self, nrows)\u001b[0m\n\u001b[0;32m    232\u001b[0m \u001b[38;5;28;01mtry\u001b[39;00m:\n\u001b[0;32m    233\u001b[0m     \u001b[38;5;28;01mif\u001b[39;00m \u001b[38;5;28mself\u001b[39m\u001b[38;5;241m.\u001b[39mlow_memory:\n\u001b[1;32m--> 234\u001b[0m         chunks \u001b[38;5;241m=\u001b[39m \u001b[38;5;28mself\u001b[39m\u001b[38;5;241m.\u001b[39m_reader\u001b[38;5;241m.\u001b[39mread_low_memory(nrows)\n\u001b[0;32m    235\u001b[0m         \u001b[38;5;66;03m# destructive to chunks\u001b[39;00m\n\u001b[0;32m    236\u001b[0m         data \u001b[38;5;241m=\u001b[39m _concatenate_chunks(chunks)\n",
      "File \u001b[1;32m~\\anaconda3\\Lib\\site-packages\\pandas\\_libs\\parsers.pyx:814\u001b[0m, in \u001b[0;36mpandas._libs.parsers.TextReader.read_low_memory\u001b[1;34m()\u001b[0m\n",
      "File \u001b[1;32m~\\anaconda3\\Lib\\site-packages\\pandas\\_libs\\parsers.pyx:875\u001b[0m, in \u001b[0;36mpandas._libs.parsers.TextReader._read_rows\u001b[1;34m()\u001b[0m\n",
      "File \u001b[1;32m~\\anaconda3\\Lib\\site-packages\\pandas\\_libs\\parsers.pyx:850\u001b[0m, in \u001b[0;36mpandas._libs.parsers.TextReader._tokenize_rows\u001b[1;34m()\u001b[0m\n",
      "File \u001b[1;32m~\\anaconda3\\Lib\\site-packages\\pandas\\_libs\\parsers.pyx:861\u001b[0m, in \u001b[0;36mpandas._libs.parsers.TextReader._check_tokenize_status\u001b[1;34m()\u001b[0m\n",
      "File \u001b[1;32m~\\anaconda3\\Lib\\site-packages\\pandas\\_libs\\parsers.pyx:2029\u001b[0m, in \u001b[0;36mpandas._libs.parsers.raise_parser_error\u001b[1;34m()\u001b[0m\n",
      "\u001b[1;31mParserError\u001b[0m: Error tokenizing data. C error: Expected 1 fields in line 41, saw 16\n"
     ]
    }
   ],
   "source": [
    "import pandas as pd\n",
    "\n",
    "# Load the dataset\n",
    "file_path = 'imdb_movies_Scrape1000.csv'\n",
    "data = pd.read_csv(file_path)\n",
    "\n",
    "# Display the first few rows of the dataset\n",
    "data.head()"
   ]
  },
  {
   "cell_type": "markdown",
   "id": "a620c38b",
   "metadata": {},
   "source": [
    "# Data Processing and Cleaning:\n",
    "## Data Cleaning:\n",
    "### Handling missing values:"
   ]
  },
  {
   "cell_type": "code",
   "execution_count": null,
   "id": "6035a254",
   "metadata": {},
   "outputs": [],
   "source": [
    "# Step 1: Check for Missing Values\n",
    "data.isnull().sum()\n",
    "\n"
   ]
  },
  {
   "cell_type": "markdown",
   "id": "ab0f83f2",
   "metadata": {},
   "source": [
    "What was done: Checked for the presence of missing values in each column of the dataset.\n",
    "Why it was necessary: Identifying missing values is crucial to assess the quality of the data and decide on appropriate handling techniques."
   ]
  },
  {
   "cell_type": "markdown",
   "id": "829d3c9b",
   "metadata": {},
   "source": [
    "###  Data Type Conversion"
   ]
  },
  {
   "cell_type": "code",
   "execution_count": null,
   "id": "ab5b61ef",
   "metadata": {},
   "outputs": [],
   "source": [
    "# Step 2: Data Type Conversion\n",
    "# Convert 'Release year' to integer\n",
    "data['Release year'] = pd.to_numeric(data['Release year'], errors='coerce')\n",
    "\n",
    "# Convert 'IMDb rating' to float\n",
    "data['IMDb rating'] = pd.to_numeric(data['IMDb rating'], errors='coerce')\n",
    "\n",
    "# Convert 'votes' to integer\n",
    "data['Votes'] = data['Votes'].str.replace(',', '').astype(int)\n",
    "\n"
   ]
  },
  {
   "cell_type": "markdown",
   "id": "1dc72226",
   "metadata": {},
   "source": [
    "What was done: Converted the 'Release year' column to integer and 'Votes' column to integer and the 'IMDb rating' column to float.\n",
    "Why it was necessary: Ensuring that data types are consistent with the data they represent is important for analysis and computation. For example, the release year should be an integer, and ratings should be floating-point numbers."
   ]
  },
  {
   "cell_type": "markdown",
   "id": "0caecabb",
   "metadata": {},
   "source": [
    "### Remove Unnecessary Characters:"
   ]
  },
  {
   "cell_type": "code",
   "execution_count": null,
   "id": "c7b3dc63",
   "metadata": {},
   "outputs": [],
   "source": [
    "# Step 3: Remove Unnecessary Characters\n",
    "# Remove 'min' from 'Runtime' and convert to integer\n",
    "data['Runtime'] = data['Runtime'].str.replace(' min', '').astype(float)\n",
    "\n",
    "# Remove '$' and 'M' from 'Gross', convert to float, and multiply by 1 million\n",
    "data['Gross'] = data['Gross'].str.replace('[\\$\\,M]', '', regex=True).astype(float) * 1e6\n"
   ]
  },
  {
   "cell_type": "markdown",
   "id": "88b21cd3",
   "metadata": {},
   "source": [
    "What was done: Removed non-numeric characters from the 'Runtime' and 'Gross' columns and converted them to appropriate numeric types.\n",
    "Why it was necessary: Numeric columns containing non-numeric characters cannot be used for mathematical operations. Cleaning these columns allows for accurate calculations and analysis."
   ]
  },
  {
   "cell_type": "markdown",
   "id": "5fcd8d8a",
   "metadata": {},
   "source": [
    "### Splitting Columns "
   ]
  },
  {
   "cell_type": "code",
   "execution_count": null,
   "id": "0f821d03",
   "metadata": {},
   "outputs": [],
   "source": [
    "# Step 4: Splitting Columns \n",
    "data['Stars'] = data['Stars'].str.split(', ')\n"
   ]
  },
  {
   "cell_type": "markdown",
   "id": "32e7b9ed",
   "metadata": {},
   "source": [
    "What was done: Split the 'Stars' column into a list of individual names.\n",
    "Why it was necessary: The 'Stars' column contained multiple names in a single string, which is not ideal for analysis. Splitting the names into a list allows for easier manipulation and analysis of individual names."
   ]
  },
  {
   "cell_type": "markdown",
   "id": "2fa09155",
   "metadata": {},
   "source": [
    "### Handling missing values"
   ]
  },
  {
   "cell_type": "code",
   "execution_count": null,
   "id": "79dc780e",
   "metadata": {},
   "outputs": [],
   "source": [
    "# Handling missing values\n",
    "\n",
    "# For 'Metascore', we'll fill missing values with the median\n",
    "metascore_median = data['Metascore'].median()\n",
    "data['Metascore'].fillna(metascore_median, inplace=True)\n",
    "\n",
    "# For 'Gross', we'll fill missing values with the median\n",
    "gross_median = data['Gross'].median()\n",
    "data['Gross'].fillna(gross_median, inplace=True)\n",
    "\n",
    "# Fill missing values in 'Release year' with the median\n",
    "release_year_median = data['Release year'].median()\n",
    "data['Release year'].fillna(release_year_median, inplace=True)\n",
    "\n",
    "# Check if there are any missing values left\n",
    "data.isnull().sum()\n"
   ]
  },
  {
   "cell_type": "markdown",
   "id": "57db4d84",
   "metadata": {},
   "source": [
    "What was done: Filled missing values in the 'Metascore', 'Gross', and 'Release year' columns with their respective median values. Why it was necessary: Missing values can affect the results of analyses and computations. Filling them with a central tendency measure is a common practice to maintain the overall distribution of the data."
   ]
  },
  {
   "cell_type": "markdown",
   "id": "978c60e1",
   "metadata": {},
   "source": [
    "### cleaned data:"
   ]
  },
  {
   "cell_type": "code",
   "execution_count": 16,
   "id": "3e7fb7e7",
   "metadata": {},
   "outputs": [
    {
     "data": {
      "text/html": [
       "<div>\n",
       "<style scoped>\n",
       "    .dataframe tbody tr th:only-of-type {\n",
       "        vertical-align: middle;\n",
       "    }\n",
       "\n",
       "    .dataframe tbody tr th {\n",
       "        vertical-align: top;\n",
       "    }\n",
       "\n",
       "    .dataframe thead th {\n",
       "        text-align: right;\n",
       "    }\n",
       "</style>\n",
       "<table border=\"1\" class=\"dataframe\">\n",
       "  <thead>\n",
       "    <tr style=\"text-align: right;\">\n",
       "      <th></th>\n",
       "      <th>Title</th>\n",
       "      <th>Release year</th>\n",
       "      <th>Plot summary</th>\n",
       "      <th>Genre</th>\n",
       "      <th>Rating</th>\n",
       "      <th>Runtime</th>\n",
       "      <th>IMDb rating</th>\n",
       "      <th>Metascore</th>\n",
       "      <th>Director</th>\n",
       "      <th>Stars</th>\n",
       "      <th>Votes</th>\n",
       "      <th>Gross</th>\n",
       "    </tr>\n",
       "  </thead>\n",
       "  <tbody>\n",
       "    <tr>\n",
       "      <th>0</th>\n",
       "      <td>The Shawshank Redemption</td>\n",
       "      <td>1994.0</td>\n",
       "      <td>Over the course of several years, two convicts...</td>\n",
       "      <td>Drama</td>\n",
       "      <td>9.3</td>\n",
       "      <td>142.0</td>\n",
       "      <td>9.3</td>\n",
       "      <td>82.0</td>\n",
       "      <td>Frank Darabont</td>\n",
       "      <td>[Tim Robbins, Morgan Freeman, Bob Gunton, Will...</td>\n",
       "      <td>2869913</td>\n",
       "      <td>28340000.0</td>\n",
       "    </tr>\n",
       "    <tr>\n",
       "      <th>1</th>\n",
       "      <td>The Dark Knight</td>\n",
       "      <td>2008.0</td>\n",
       "      <td>When the menace known as the Joker wreaks havo...</td>\n",
       "      <td>Action, Crime, Drama</td>\n",
       "      <td>9.0</td>\n",
       "      <td>152.0</td>\n",
       "      <td>9.0</td>\n",
       "      <td>84.0</td>\n",
       "      <td>Christopher Nolan</td>\n",
       "      <td>[Christian Bale, Heath Ledger, Aaron Eckhart, ...</td>\n",
       "      <td>2851842</td>\n",
       "      <td>534860000.0</td>\n",
       "    </tr>\n",
       "    <tr>\n",
       "      <th>2</th>\n",
       "      <td>Inception</td>\n",
       "      <td>2010.0</td>\n",
       "      <td>A thief who steals corporate secrets through t...</td>\n",
       "      <td>Action, Adventure, Sci-Fi</td>\n",
       "      <td>8.8</td>\n",
       "      <td>148.0</td>\n",
       "      <td>8.8</td>\n",
       "      <td>74.0</td>\n",
       "      <td>Christopher Nolan</td>\n",
       "      <td>[Leonardo DiCaprio, Joseph Gordon-Levitt, Elli...</td>\n",
       "      <td>2532959</td>\n",
       "      <td>292580000.0</td>\n",
       "    </tr>\n",
       "    <tr>\n",
       "      <th>3</th>\n",
       "      <td>Fight Club</td>\n",
       "      <td>1999.0</td>\n",
       "      <td>An insomniac office worker and a devil-may-car...</td>\n",
       "      <td>Drama</td>\n",
       "      <td>8.8</td>\n",
       "      <td>139.0</td>\n",
       "      <td>8.8</td>\n",
       "      <td>67.0</td>\n",
       "      <td>David Fincher</td>\n",
       "      <td>[Brad Pitt, Edward Norton, Meat Loaf, Zach Gre...</td>\n",
       "      <td>2305364</td>\n",
       "      <td>37030000.0</td>\n",
       "    </tr>\n",
       "    <tr>\n",
       "      <th>4</th>\n",
       "      <td>Pulp Fiction</td>\n",
       "      <td>1994.0</td>\n",
       "      <td>The lives of two mob hitmen, a boxer, a gangst...</td>\n",
       "      <td>Crime, Drama</td>\n",
       "      <td>8.9</td>\n",
       "      <td>154.0</td>\n",
       "      <td>8.9</td>\n",
       "      <td>95.0</td>\n",
       "      <td>Quentin Tarantino</td>\n",
       "      <td>[John Travolta, Uma Thurman, Samuel L. Jackson...</td>\n",
       "      <td>2204248</td>\n",
       "      <td>107930000.0</td>\n",
       "    </tr>\n",
       "  </tbody>\n",
       "</table>\n",
       "</div>"
      ],
      "text/plain": [
       "                      Title  Release year  \\\n",
       "0  The Shawshank Redemption        1994.0   \n",
       "1           The Dark Knight        2008.0   \n",
       "2                 Inception        2010.0   \n",
       "3                Fight Club        1999.0   \n",
       "4              Pulp Fiction        1994.0   \n",
       "\n",
       "                                        Plot summary  \\\n",
       "0  Over the course of several years, two convicts...   \n",
       "1  When the menace known as the Joker wreaks havo...   \n",
       "2  A thief who steals corporate secrets through t...   \n",
       "3  An insomniac office worker and a devil-may-car...   \n",
       "4  The lives of two mob hitmen, a boxer, a gangst...   \n",
       "\n",
       "                       Genre  Rating  Runtime  IMDb rating  Metascore  \\\n",
       "0                      Drama     9.3    142.0          9.3       82.0   \n",
       "1       Action, Crime, Drama     9.0    152.0          9.0       84.0   \n",
       "2  Action, Adventure, Sci-Fi     8.8    148.0          8.8       74.0   \n",
       "3                      Drama     8.8    139.0          8.8       67.0   \n",
       "4               Crime, Drama     8.9    154.0          8.9       95.0   \n",
       "\n",
       "            Director                                              Stars  \\\n",
       "0     Frank Darabont  [Tim Robbins, Morgan Freeman, Bob Gunton, Will...   \n",
       "1  Christopher Nolan  [Christian Bale, Heath Ledger, Aaron Eckhart, ...   \n",
       "2  Christopher Nolan  [Leonardo DiCaprio, Joseph Gordon-Levitt, Elli...   \n",
       "3      David Fincher  [Brad Pitt, Edward Norton, Meat Loaf, Zach Gre...   \n",
       "4  Quentin Tarantino  [John Travolta, Uma Thurman, Samuel L. Jackson...   \n",
       "\n",
       "     Votes        Gross  \n",
       "0  2869913   28340000.0  \n",
       "1  2851842  534860000.0  \n",
       "2  2532959  292580000.0  \n",
       "3  2305364   37030000.0  \n",
       "4  2204248  107930000.0  "
      ]
     },
     "execution_count": 16,
     "metadata": {},
     "output_type": "execute_result"
    }
   ],
   "source": [
    "# Display the cleaned dataset and the missing values\n",
    "data.head()"
   ]
  },
  {
   "cell_type": "code",
   "execution_count": null,
   "id": "ee97d0d7",
   "metadata": {},
   "outputs": [],
   "source": []
  }
 ],
 "metadata": {
  "kernelspec": {
   "display_name": "Python 3 (ipykernel)",
   "language": "python",
   "name": "python3"
  },
  "language_info": {
   "codemirror_mode": {
    "name": "ipython",
    "version": 3
   },
   "file_extension": ".py",
   "mimetype": "text/x-python",
   "name": "python",
   "nbconvert_exporter": "python",
   "pygments_lexer": "ipython3",
   "version": "3.11.5"
  }
 },
 "nbformat": 4,
 "nbformat_minor": 5
}
